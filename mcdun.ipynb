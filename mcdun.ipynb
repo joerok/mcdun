{
  "nbformat": 4,
  "nbformat_minor": 0,
  "metadata": {
    "colab": {
      "provenance": [],
      "authorship_tag": "ABX9TyMK2q6l4O/577z6lNNe+mSU",
      "include_colab_link": true
    },
    "kernelspec": {
      "name": "python3",
      "display_name": "Python 3"
    },
    "language_info": {
      "name": "python"
    }
  },
  "cells": [
    {
      "cell_type": "markdown",
      "metadata": {
        "id": "view-in-github",
        "colab_type": "text"
      },
      "source": [
        "<a href=\"https://colab.research.google.com/github/joerok/mcdun/blob/main/mcdun.ipynb\" target=\"_parent\"><img src=\"https://colab.research.google.com/assets/colab-badge.svg\" alt=\"Open In Colab\"/></a>"
      ]
    },
    {
      "cell_type": "code",
      "execution_count": null,
      "metadata": {
        "id": "EJfrBT-TRUoX"
      },
      "outputs": [],
      "source": []
    },
    {
      "source": [
        "from google.cloud import storage\n",
        "\n",
        "def upload_to_cloud_storage(bucket_name, file_path, destination_blob_name):\n",
        "    \"\"\"Uploads a file to Cloud Storage.\"\"\"\n",
        "    storage_client = storage.Client()\n",
        "    bucket = storage_client.bucket(bucket_name)\n",
        "    blob = bucket.blob(destination_blob_name)\n",
        "    blob.upload_from_filename(file_path)\n",
        "    print(f\"File {file_path} uploaded to gs://{bucket_name}/{destination_blob_name}.\")\n",
        "\n",
        "# Example usage:\n",
        "# bucket_name = \"your-bucket-name\"\n",
        "# file_path = \"armor_data.html\"\n",
        "# destination_blob_name = \"archives/armor_data.html\"\n",
        "# upload_to_cloud_storage(bucket_name, file_path, destination_blob_name)"
      ],
      "cell_type": "code",
      "metadata": {
        "id": "-uVu3wWmW4_G"
      },
      "execution_count": null,
      "outputs": []
    },
    {
      "source": [
        "from lib.initialize import BUCKET\n",
        "\n",
        "# TODO: check for archived source\n",
        "# TODO: read updated source\n",
        "# TODO: update archive"
      ],
      "cell_type": "code",
      "metadata": {
        "id": "khxy0eR4Xq4q"
      },
      "execution_count": null,
      "outputs": []
    }
  ]
}